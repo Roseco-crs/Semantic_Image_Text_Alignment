{
 "cells": [
  {
   "cell_type": "code",
   "execution_count": 11,
   "metadata": {},
   "outputs": [],
   "source": [
    "import pandas as pd\n",
    "import os"
   ]
  },
  {
   "cell_type": "code",
   "execution_count": 12,
   "metadata": {},
   "outputs": [
    {
     "data": {
      "text/html": [
       "<div>\n",
       "<style scoped>\n",
       "    .dataframe tbody tr th:only-of-type {\n",
       "        vertical-align: middle;\n",
       "    }\n",
       "\n",
       "    .dataframe tbody tr th {\n",
       "        vertical-align: top;\n",
       "    }\n",
       "\n",
       "    .dataframe thead th {\n",
       "        text-align: right;\n",
       "    }\n",
       "</style>\n",
       "<table border=\"1\" class=\"dataframe\">\n",
       "  <thead>\n",
       "    <tr style=\"text-align: right;\">\n",
       "      <th></th>\n",
       "      <th>game_id</th>\n",
       "      <th>preview_link</th>\n",
       "      <th>ER</th>\n",
       "      <th>CTR</th>\n",
       "    </tr>\n",
       "  </thead>\n",
       "  <tbody>\n",
       "    <tr>\n",
       "      <th>0</th>\n",
       "      <td>bfbf7a2b7ac635e67877b1ab87fd6629</td>\n",
       "      <td>https://s3.us-east-1.amazonaws.com/a.futureadl...</td>\n",
       "      <td>0.209269</td>\n",
       "      <td>0.058438</td>\n",
       "    </tr>\n",
       "    <tr>\n",
       "      <th>1</th>\n",
       "      <td>945010afbf9a55bbdffcb0895f946155</td>\n",
       "      <td>https://s3.us-east-1.amazonaws.com/a.futureadl...</td>\n",
       "      <td>0.274552</td>\n",
       "      <td>0.074731</td>\n",
       "    </tr>\n",
       "    <tr>\n",
       "      <th>2</th>\n",
       "      <td>e68e20f592457b875ce29757ab855dfe</td>\n",
       "      <td>https://s3.us-east-1.amazonaws.com/a.futureadl...</td>\n",
       "      <td>0.103688</td>\n",
       "      <td>0.042228</td>\n",
       "    </tr>\n",
       "    <tr>\n",
       "      <th>3</th>\n",
       "      <td>adunit-nestle-purina-friskies-mob</td>\n",
       "      <td>https://s3.ap-southeast-1.amazonaws.com/a.futu...</td>\n",
       "      <td>0.136963</td>\n",
       "      <td>0.005393</td>\n",
       "    </tr>\n",
       "    <tr>\n",
       "      <th>4</th>\n",
       "      <td>adunit-lionsgate-uwomt-user-slider-sensory-vid...</td>\n",
       "      <td>https://s3.us-west-1.amazonaws.com/a.futureadl...</td>\n",
       "      <td>0.114208</td>\n",
       "      <td>0.016443</td>\n",
       "    </tr>\n",
       "  </tbody>\n",
       "</table>\n",
       "</div>"
      ],
      "text/plain": [
       "                                             game_id  \\\n",
       "0                   bfbf7a2b7ac635e67877b1ab87fd6629   \n",
       "1                   945010afbf9a55bbdffcb0895f946155   \n",
       "2                   e68e20f592457b875ce29757ab855dfe   \n",
       "3                  adunit-nestle-purina-friskies-mob   \n",
       "4  adunit-lionsgate-uwomt-user-slider-sensory-vid...   \n",
       "\n",
       "                                        preview_link        ER       CTR  \n",
       "0  https://s3.us-east-1.amazonaws.com/a.futureadl...  0.209269  0.058438  \n",
       "1  https://s3.us-east-1.amazonaws.com/a.futureadl...  0.274552  0.074731  \n",
       "2  https://s3.us-east-1.amazonaws.com/a.futureadl...  0.103688  0.042228  \n",
       "3  https://s3.ap-southeast-1.amazonaws.com/a.futu...  0.136963  0.005393  \n",
       "4  https://s3.us-west-1.amazonaws.com/a.futureadl...  0.114208  0.016443  "
      ]
     },
     "execution_count": 12,
     "metadata": {},
     "output_type": "execute_result"
    }
   ],
   "source": [
    "data = pd.read_csv(\"./Challenge_Data/performance_data.csv\")\n",
    "data.head()"
   ]
  },
  {
   "cell_type": "code",
   "execution_count": 14,
   "metadata": {},
   "outputs": [
    {
     "data": {
      "text/plain": [
       "'https://s3.us-east-1.amazonaws.com/a.futureadlabs.com-us-east-1-backup/us-east-1/games/bfbf7a2b7ac635e67877b1ab87fd6629/b7a604b3b08f0862ef0e/index.html'"
      ]
     },
     "execution_count": 14,
     "metadata": {},
     "output_type": "execute_result"
    }
   ],
   "source": [
    "data.loc[0][\"preview_link\"]"
   ]
  },
  {
   "cell_type": "markdown",
   "metadata": {},
   "source": [
    "### Locating Assets in creative"
   ]
  },
  {
   "cell_type": "code",
   "execution_count": 13,
   "metadata": {},
   "outputs": [
    {
     "data": {
      "text/html": [
       "<div>\n",
       "<style scoped>\n",
       "    .dataframe tbody tr th:only-of-type {\n",
       "        vertical-align: middle;\n",
       "    }\n",
       "\n",
       "    .dataframe tbody tr th {\n",
       "        vertical-align: top;\n",
       "    }\n",
       "\n",
       "    .dataframe thead th {\n",
       "        text-align: right;\n",
       "    }\n",
       "</style>\n",
       "<table border=\"1\" class=\"dataframe\">\n",
       "  <thead>\n",
       "    <tr style=\"text-align: right;\">\n",
       "      <th></th>\n",
       "      <th>concept</th>\n",
       "      <th>implementation</th>\n",
       "      <th>explanation</th>\n",
       "      <th>asset_suggestions</th>\n",
       "    </tr>\n",
       "  </thead>\n",
       "  <tbody>\n",
       "    <tr>\n",
       "      <th>0</th>\n",
       "      <td>Escape Challenge Teaser</td>\n",
       "      <td>{'frame_1': {'description': 'The ad begins wit...</td>\n",
       "      <td>This concept aligns with LEGO CITY's brand ide...</td>\n",
       "      <td>[{'frame_1': {'Background Animation': 'A suspe...</td>\n",
       "    </tr>\n",
       "    <tr>\n",
       "      <th>1</th>\n",
       "      <td>Interactive Storytelling</td>\n",
       "      <td>{'frame_1': {'description': 'The ad opens with...</td>\n",
       "      <td>This concept aligns with LEGO CITY's brand ide...</td>\n",
       "      <td>[{'frame_1': {'Background Animation': 'A suspe...</td>\n",
       "    </tr>\n",
       "    <tr>\n",
       "      <th>2</th>\n",
       "      <td>City Tour</td>\n",
       "      <td>{'frame_1': {'description': 'The ad begins wit...</td>\n",
       "      <td>This concept aligns with LEGO CITY's brand ide...</td>\n",
       "      <td>[{'frame_1': {'Background Animation': 'A suspe...</td>\n",
       "    </tr>\n",
       "    <tr>\n",
       "      <th>3</th>\n",
       "      <td>Interactive Globe Journey</td>\n",
       "      <td>{'frame_1': {'description': 'The ad opens with...</td>\n",
       "      <td>This concept aligns with the brand's identity ...</td>\n",
       "      <td>[{'frame_1': {'3D Globe': 'A high-definition 3...</td>\n",
       "    </tr>\n",
       "    <tr>\n",
       "      <th>4</th>\n",
       "      <td>Cultural Carousel</td>\n",
       "      <td>{'frame_1': {'description': 'A carousel of cul...</td>\n",
       "      <td>This concept leverages the brand's diverse por...</td>\n",
       "      <td>[{'frame_1': {'Background Image': 'A high-reso...</td>\n",
       "    </tr>\n",
       "  </tbody>\n",
       "</table>\n",
       "</div>"
      ],
      "text/plain": [
       "                     concept  \\\n",
       "0    Escape Challenge Teaser   \n",
       "1   Interactive Storytelling   \n",
       "2                  City Tour   \n",
       "3  Interactive Globe Journey   \n",
       "4          Cultural Carousel   \n",
       "\n",
       "                                      implementation  \\\n",
       "0  {'frame_1': {'description': 'The ad begins wit...   \n",
       "1  {'frame_1': {'description': 'The ad opens with...   \n",
       "2  {'frame_1': {'description': 'The ad begins wit...   \n",
       "3  {'frame_1': {'description': 'The ad opens with...   \n",
       "4  {'frame_1': {'description': 'A carousel of cul...   \n",
       "\n",
       "                                         explanation  \\\n",
       "0  This concept aligns with LEGO CITY's brand ide...   \n",
       "1  This concept aligns with LEGO CITY's brand ide...   \n",
       "2  This concept aligns with LEGO CITY's brand ide...   \n",
       "3  This concept aligns with the brand's identity ...   \n",
       "4  This concept leverages the brand's diverse por...   \n",
       "\n",
       "                                   asset_suggestions  \n",
       "0  [{'frame_1': {'Background Animation': 'A suspe...  \n",
       "1  [{'frame_1': {'Background Animation': 'A suspe...  \n",
       "2  [{'frame_1': {'Background Animation': 'A suspe...  \n",
       "3  [{'frame_1': {'3D Globe': 'A high-definition 3...  \n",
       "4  [{'frame_1': {'Background Image': 'A high-reso...  "
      ]
     },
     "execution_count": 13,
     "metadata": {},
     "output_type": "execute_result"
    }
   ],
   "source": [
    "jsoN = pd.read_json(\"concepts.json\")\n",
    "jsoN.head()"
   ]
  },
  {
   "cell_type": "code",
   "execution_count": 8,
   "metadata": {},
   "outputs": [
    {
     "data": {
      "text/plain": [
       "pandas.core.frame.DataFrame"
      ]
     },
     "execution_count": 8,
     "metadata": {},
     "output_type": "execute_result"
    }
   ],
   "source": [
    "type(jsoN)"
   ]
  },
  {
   "cell_type": "code",
   "execution_count": 10,
   "metadata": {},
   "outputs": [
    {
     "data": {
      "text/plain": [
       "0      {'frame_1': {'description': 'The ad begins wit...\n",
       "1      {'frame_1': {'description': 'The ad opens with...\n",
       "2      {'frame_1': {'description': 'The ad begins wit...\n",
       "3      {'frame_1': {'description': 'The ad opens with...\n",
       "4      {'frame_1': {'description': 'A carousel of cul...\n",
       "                             ...                        \n",
       "110    {'frame_1': {'description': 'The first frame p...\n",
       "111    {'frame_1': {'description': 'The first frame p...\n",
       "112    {'frame_1': {'description': 'The first frame p...\n",
       "113    {'frame_1': {'description': 'The ad begins wit...\n",
       "114    {'frame_1': {'description': 'The ad starts wit...\n",
       "Name: implementation, Length: 115, dtype: object"
      ]
     },
     "execution_count": 10,
     "metadata": {},
     "output_type": "execute_result"
    }
   ],
   "source": [
    "jsoN[\"implementation\"]"
   ]
  },
  {
   "cell_type": "code",
   "execution_count": 16,
   "metadata": {},
   "outputs": [],
   "source": [
    "#!pip install opencv-python"
   ]
  },
  {
   "cell_type": "code",
   "execution_count": 18,
   "metadata": {},
   "outputs": [
    {
     "ename": "ModuleNotFoundError",
     "evalue": "No module named 'cv2'",
     "output_type": "error",
     "traceback": [
      "\u001b[0;31m---------------------------------------------------------------------------\u001b[0m",
      "\u001b[0;31mModuleNotFoundError\u001b[0m                       Traceback (most recent call last)",
      "Cell \u001b[0;32mIn[18], line 2\u001b[0m\n\u001b[1;32m      1\u001b[0m \u001b[38;5;28;01mfrom\u001b[39;00m \u001b[38;5;21;01mtyping\u001b[39;00m \u001b[38;5;28;01mimport\u001b[39;00m Tuple\n\u001b[0;32m----> 2\u001b[0m \u001b[38;5;28;01mimport\u001b[39;00m \u001b[38;5;21;01mcv2\u001b[39;00m\n",
      "\u001b[0;31mModuleNotFoundError\u001b[0m: No module named 'cv2'"
     ]
    }
   ],
   "source": [
    "from typing import Tuple\n",
    "import cv2"
   ]
  },
  {
   "cell_type": "code",
   "execution_count": null,
   "metadata": {},
   "outputs": [],
   "source": [
    "def locate_image_on_image(locate_image: str, on_image: str, prefix: str = '', visualize: bool = False, color: Tuple[int, int, int] = (0, 0, 255)):\n",
    "    try:\n",
    "\n",
    "        image = cv2.imread(on_image)\n",
    "        gray = cv2.cvtColor(image, cv2.COLOR_RGB2GRAY)\n",
    "\n",
    "        template = cv2.imread(locate_image, 0)\n",
    "\n",
    "        result = cv2.matchTemplate(gray, template, cv2.TM_CCOEFF)\n",
    "        _, _, _, max_loc = cv2.minMaxLoc(result)\n",
    "\n",
    "        height, width = template.shape[:2]\n",
    "\n",
    "        top_left = max_loc\n",
    "        bottom_right = (top_left[0] + width, top_left[1] + height)\n",
    "\n",
    "        if visualize:\n",
    "            cv2.rectangle(image, top_left, bottom_right, color, 1)\n",
    "            plt.figure(figsize=(10, 10))\n",
    "            plt.axis('off')\n",
    "            image = cv2.cvtColor(image, cv2.COLOR_BGR2RGB)\n",
    "            plt.imshow(image)\n",
    "\n",
    "        return {f'{prefix}top_left_pos': top_left, f'{prefix}bottom_right_pos': bottom_right}\n",
    "\n",
    "    except cv2.error as err:\n",
    "        print(err)"
   ]
  },
  {
   "cell_type": "code",
   "execution_count": null,
   "metadata": {},
   "outputs": [],
   "source": [
    "from huggingface_hub import login\n",
    "\n",
    "login()\n"
   ]
  },
  {
   "cell_type": "code",
   "execution_count": null,
   "metadata": {},
   "outputs": [],
   "source": []
  }
 ],
 "metadata": {
  "kernelspec": {
   "display_name": "venv",
   "language": "python",
   "name": "python3"
  },
  "language_info": {
   "codemirror_mode": {
    "name": "ipython",
    "version": 3
   },
   "file_extension": ".py",
   "mimetype": "text/x-python",
   "name": "python",
   "nbconvert_exporter": "python",
   "pygments_lexer": "ipython3",
   "version": "3.10.13"
  }
 },
 "nbformat": 4,
 "nbformat_minor": 2
}
