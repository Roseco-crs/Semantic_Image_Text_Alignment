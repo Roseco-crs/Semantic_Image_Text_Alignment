{
 "cells": [
  {
   "cell_type": "code",
   "execution_count": null,
   "metadata": {},
   "outputs": [],
   "source": [
    "# YOLO (You Only Learn Once)\n",
    "## installing Yolo v5   \n",
    "\n",
    "#!pip install -U yolov5"
   ]
  },
  {
   "cell_type": "code",
   "execution_count": null,
   "metadata": {},
   "outputs": [],
   "source": [
    "# import Yolov5\n",
    "import yolov5"
   ]
  },
  {
   "cell_type": "code",
   "execution_count": null,
   "metadata": {},
   "outputs": [],
   "source": [
    "# load model\n",
    "model = yolov5.load(\"fcakyon/yolov5s-v7.0\")\n",
    "\n",
    "# Set model parameters\n",
    "model.conf = 0.25  #NMS confidence threshold\n",
    "model.iou = 0.45   # NMS IoU threshold\n",
    "model.agnostic = False   #NMS class-agnostic\n",
    "model.multi_label = False   # NMS multiple labels per box\n",
    "model.max_det = 1000    # Maximum number of detections per image\n",
    "\n",
    "# Set image\n",
    "img = ...\n",
    "\n",
    "# perform inference\n",
    "results = model(img)\n",
    "\n",
    "# inference with larger input size\n",
    "results = model(img, size=650)\n",
    "\n",
    "# inference with test time augmentation\n",
    "results = model(img, augment= True)\n",
    "\n",
    "# parse results\n",
    "predictions = results.pred[0]\n",
    "boxes = predictions[:,:4]      # x1, y1, x2, y2\n",
    "scores = predictions[:, 4]\n",
    "categories = predictions[:, 5]\n",
    "\n",
    "# show dection bounding boxes on image\n",
    "results.show()\n",
    "\n",
    "# save results into \"results/\" folder\n",
    "results.save(save_dir = 'results/')\n"
   ]
  },
  {
   "cell_type": "code",
   "execution_count": null,
   "metadata": {},
   "outputs": [],
   "source": [
    "# fine-tune the model on your own datasets\n",
    "#yolov5 train --img 640 --batch 16 --weights fcakyon/yolov5s-v7.0 --epochs 10 --device cuda:0"
   ]
  },
  {
   "cell_type": "code",
   "execution_count": null,
   "metadata": {},
   "outputs": [],
   "source": []
  }
 ],
 "metadata": {
  "language_info": {
   "name": "python"
  }
 },
 "nbformat": 4,
 "nbformat_minor": 2
}
