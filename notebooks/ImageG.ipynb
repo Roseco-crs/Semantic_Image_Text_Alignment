{
 "cells": [
  {
   "cell_type": "code",
   "execution_count": 1,
   "metadata": {},
   "outputs": [],
   "source": [
    "#!pip install diffusers --upgrade\n",
    "#!pip install transformers\n",
    "#!pip install invisible_watermark transformers accelerate safetensors\n"
   ]
  },
  {
   "cell_type": "code",
   "execution_count": 2,
   "metadata": {},
   "outputs": [
    {
     "name": "stderr",
     "output_type": "stream",
     "text": [
      "/home/crs/10Academy/w10/w10_genAi/lib/python3.10/site-packages/diffusers/utils/outputs.py:63: UserWarning: torch.utils._pytree._register_pytree_node is deprecated. Please use torch.utils._pytree.register_pytree_node instead.\n",
      "  torch.utils._pytree._register_pytree_node(\n",
      "/home/crs/10Academy/w10/w10_genAi/lib/python3.10/site-packages/diffusers/utils/outputs.py:63: UserWarning: torch.utils._pytree._register_pytree_node is deprecated. Please use torch.utils._pytree.register_pytree_node instead.\n",
      "  torch.utils._pytree._register_pytree_node(\n"
     ]
    }
   ],
   "source": [
    "from diffusers import StableDiffusionPipeline\n",
    "import torch\n",
    "import time"
   ]
  },
  {
   "cell_type": "code",
   "execution_count": null,
   "metadata": {},
   "outputs": [],
   "source": [
    "model_id = \"runwayml/stable-diffusion-v1-5\"\n",
    "pipe = StableDiffusionPipeline.from_pretrained(model_id, torch_dtype=torch.float16)\n",
    "pipe = pipe.to(\"cuda\")\n",
    "\n",
    "prompt = \"a photo of an astronaut riding a horse on mars\"\n",
    "image = pipe(prompt).images[0]  \n",
    "    \n",
    "image.save(\"astronaut_rides_horse.png\")"
   ]
  },
  {
   "cell_type": "markdown",
   "metadata": {},
   "source": [
    "#### Text to image generation with `stability-ai/sdxl` and `konieshadow/fooocus-api`"
   ]
  },
  {
   "cell_type": "code",
   "execution_count": 34,
   "metadata": {},
   "outputs": [],
   "source": [
    "import replicate\n",
    "import os\n",
    "\n",
    "os.environ[\"REPLICATE_API_TOKEN\"] = \"r8_AuRvVRUzKg61aDzFyhqPkrbp2rwAINA0oWSl4\"\n",
    "\n",
    "output = replicate.run(\n",
    "  \"stability-ai/sdxl:39ed52f2a78e934b3ba6e2a89f5b1c712de7dfea535525255b1aa35c5565e08b\",\n",
    "  input={\"prompt\": \"an iguana on the beach, pointillism\",\n",
    "         \"performance_selection\": \"Extreme Speed\",\n",
    "         \"image_speed\": 1234,\n",
    "         \"sharpness\": 2,\n",
    "         \"aspect_ratios_selection\": \"1152*896\"}\n",
    ")\n",
    "imag = output"
   ]
  },
  {
   "cell_type": "code",
   "execution_count": 35,
   "metadata": {},
   "outputs": [],
   "source": [
    "output = replicate.run(\n",
    "  \"konieshadow/fooocus-api:fda927242b1db6affa1ece4f54c37f19b964666bf23b0d06ae2439067cd344a4\",\n",
    "  input={\"prompt\": \"eagle flying\",\n",
    "         \"performance_selection\": \"Extreme Speed\",\n",
    "         \"image_speed\": 1234,\n",
    "         \"sharpness\": 2,\n",
    "         \"aspect_ratios_selection\": \"1152*896\"}\n",
    ")\n",
    "imag2 = output"
   ]
  },
  {
   "cell_type": "code",
   "execution_count": 37,
   "metadata": {},
   "outputs": [
    {
     "name": "stdout",
     "output_type": "stream",
     "text": [
      "['https://replicate.delivery/pbxt/SrA5jjhWnbazApjT2j6HlBS0dfRybAe9A004lAVwByhZ45XSA/out-0.png']\n"
     ]
    }
   ],
   "source": [
    "output = replicate.run(\n",
    "    \"stability-ai/stable-diffusion-inpainting:95b7223104132402a9ae91cc677285bc5eb997834bd2349fa486f53910fd68b3\",\n",
    "    input={\n",
    "        \"mask\": imag2[0],\n",
    "        \"image\": imag[0],\n",
    "        \"width\": 512,\n",
    "        \"height\": 512,\n",
    "        #\"prompt\": \"Face of a yellow cat, high resolution, sitting on a park bench\",\n",
    "        \"scheduler\": \"DPMSolverMultistep\",\n",
    "        \"num_outputs\": 1,\n",
    "        \"guidance_scale\": 7.5,\n",
    "        \"num_inference_steps\": 25\n",
    "    }\n",
    ")\n",
    "print(output)"
   ]
  },
  {
   "cell_type": "code",
   "execution_count": null,
   "metadata": {},
   "outputs": [],
   "source": []
  }
 ],
 "metadata": {
  "kernelspec": {
   "display_name": "venv",
   "language": "python",
   "name": "python3"
  },
  "language_info": {
   "codemirror_mode": {
    "name": "ipython",
    "version": 3
   },
   "file_extension": ".py",
   "mimetype": "text/x-python",
   "name": "python",
   "nbconvert_exporter": "python",
   "pygments_lexer": "ipython3",
   "version": "3.10.13"
  }
 },
 "nbformat": 4,
 "nbformat_minor": 2
}
